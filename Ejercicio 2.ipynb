{
 "cells": [
  {
   "cell_type": "code",
   "execution_count": 1,
   "id": "7cce18da",
   "metadata": {},
   "outputs": [
    {
     "data": {
      "text/html": [
       "\n",
       "        <iframe\n",
       "            width=\"900\"\n",
       "            height=\"900\"\n",
       "            src=\"https://www.cia.gov/the-world-factbook/field/revenue-from-forest-resources/country-comparison\"\n",
       "            frameborder=\"0\"\n",
       "            allowfullscreen\n",
       "            \n",
       "        ></iframe>\n",
       "        "
      ],
      "text/plain": [
       "<IPython.lib.display.IFrame at 0x7fd0cc825f60>"
      ]
     },
     "execution_count": 1,
     "metadata": {},
     "output_type": "execute_result"
    }
   ],
   "source": [
    "from IPython.display import IFrame  \n",
    "ciaLink2=\"https://www.cia.gov/the-world-factbook/field/revenue-from-forest-resources/country-comparison\" \n",
    "IFrame(ciaLink2, width=900, height=900)"
   ]
  },
  {
   "cell_type": "code",
   "execution_count": 2,
   "id": "c8cdb827",
   "metadata": {},
   "outputs": [],
   "source": [
    "import html5lib"
   ]
  },
  {
   "cell_type": "code",
   "execution_count": 3,
   "id": "8acbf5f2",
   "metadata": {},
   "outputs": [],
   "source": [
    "# read web table into pandas DF\n",
    "import pandas as pd\n",
    "\n",
    "forestDFs=pd.read_html(ciaLink2, # link\n",
    "                        header=0, # where is the header?\n",
    "                        flavor='bs4')"
   ]
  },
  {
   "cell_type": "code",
   "execution_count": 4,
   "id": "272d451f",
   "metadata": {},
   "outputs": [
    {
     "data": {
      "text/plain": [
       "list"
      ]
     },
     "execution_count": 4,
     "metadata": {},
     "output_type": "execute_result"
    }
   ],
   "source": [
    "# check object type \n",
    "type(forestDFs)"
   ]
  },
  {
   "cell_type": "code",
   "execution_count": 5,
   "id": "5cb09ba9",
   "metadata": {},
   "outputs": [
    {
     "data": {
      "text/plain": [
       "1"
      ]
     },
     "execution_count": 5,
     "metadata": {},
     "output_type": "execute_result"
    }
   ],
   "source": [
    "# check size\n",
    "len(forestDFs)"
   ]
  },
  {
   "cell_type": "code",
   "execution_count": 6,
   "id": "fcfa1967",
   "metadata": {},
   "outputs": [],
   "source": [
    "# make a copy\n",
    "forest=forestDFs[0].copy()"
   ]
  },
  {
   "cell_type": "code",
   "execution_count": 7,
   "id": "fac465f6",
   "metadata": {},
   "outputs": [
    {
     "data": {
      "text/html": [
       "<div>\n",
       "<style scoped>\n",
       "    .dataframe tbody tr th:only-of-type {\n",
       "        vertical-align: middle;\n",
       "    }\n",
       "\n",
       "    .dataframe tbody tr th {\n",
       "        vertical-align: top;\n",
       "    }\n",
       "\n",
       "    .dataframe thead th {\n",
       "        text-align: right;\n",
       "    }\n",
       "</style>\n",
       "<table border=\"1\" class=\"dataframe\">\n",
       "  <thead>\n",
       "    <tr style=\"text-align: right;\">\n",
       "      <th></th>\n",
       "      <th>Rank</th>\n",
       "      <th>Country</th>\n",
       "      <th>% of GDP</th>\n",
       "      <th>Date of Information</th>\n",
       "    </tr>\n",
       "  </thead>\n",
       "  <tbody>\n",
       "    <tr>\n",
       "      <th>0</th>\n",
       "      <td>1</td>\n",
       "      <td>Solomon Islands</td>\n",
       "      <td>20.27</td>\n",
       "      <td>2018 est.</td>\n",
       "    </tr>\n",
       "    <tr>\n",
       "      <th>1</th>\n",
       "      <td>2</td>\n",
       "      <td>Liberia</td>\n",
       "      <td>13.27</td>\n",
       "      <td>2018 est.</td>\n",
       "    </tr>\n",
       "    <tr>\n",
       "      <th>2</th>\n",
       "      <td>3</td>\n",
       "      <td>Burundi</td>\n",
       "      <td>10.31</td>\n",
       "      <td>2018 est.</td>\n",
       "    </tr>\n",
       "    <tr>\n",
       "      <th>3</th>\n",
       "      <td>4</td>\n",
       "      <td>Guinea-Bissau</td>\n",
       "      <td>9.24</td>\n",
       "      <td>2018 est.</td>\n",
       "    </tr>\n",
       "    <tr>\n",
       "      <th>4</th>\n",
       "      <td>5</td>\n",
       "      <td>Central African Republic</td>\n",
       "      <td>8.99</td>\n",
       "      <td>2018 est.</td>\n",
       "    </tr>\n",
       "    <tr>\n",
       "      <th>...</th>\n",
       "      <td>...</td>\n",
       "      <td>...</td>\n",
       "      <td>...</td>\n",
       "      <td>...</td>\n",
       "    </tr>\n",
       "    <tr>\n",
       "      <th>199</th>\n",
       "      <td>200</td>\n",
       "      <td>Tuvalu</td>\n",
       "      <td>0.00</td>\n",
       "      <td>2018 est.</td>\n",
       "    </tr>\n",
       "    <tr>\n",
       "      <th>200</th>\n",
       "      <td>201</td>\n",
       "      <td>United Arab Emirates</td>\n",
       "      <td>0.00</td>\n",
       "      <td>2018 est.</td>\n",
       "    </tr>\n",
       "    <tr>\n",
       "      <th>201</th>\n",
       "      <td>202</td>\n",
       "      <td>Uzbekistan</td>\n",
       "      <td>0.00</td>\n",
       "      <td>2018 est.</td>\n",
       "    </tr>\n",
       "    <tr>\n",
       "      <th>202</th>\n",
       "      <td>203</td>\n",
       "      <td>Virgin Islands</td>\n",
       "      <td>0.00</td>\n",
       "      <td>2017 est.</td>\n",
       "    </tr>\n",
       "    <tr>\n",
       "      <th>203</th>\n",
       "      <td>204</td>\n",
       "      <td>West Bank</td>\n",
       "      <td>0.00</td>\n",
       "      <td>2018 est.</td>\n",
       "    </tr>\n",
       "  </tbody>\n",
       "</table>\n",
       "<p>204 rows × 4 columns</p>\n",
       "</div>"
      ],
      "text/plain": [
       "     Rank                   Country  % of GDP Date of Information\n",
       "0       1           Solomon Islands     20.27           2018 est.\n",
       "1       2                   Liberia     13.27           2018 est.\n",
       "2       3                   Burundi     10.31           2018 est.\n",
       "3       4             Guinea-Bissau      9.24           2018 est.\n",
       "4       5  Central African Republic      8.99           2018 est.\n",
       "..    ...                       ...       ...                 ...\n",
       "199   200                    Tuvalu      0.00           2018 est.\n",
       "200   201      United Arab Emirates      0.00           2018 est.\n",
       "201   202                Uzbekistan      0.00           2018 est.\n",
       "202   203            Virgin Islands      0.00           2017 est.\n",
       "203   204                 West Bank      0.00           2018 est.\n",
       "\n",
       "[204 rows x 4 columns]"
      ]
     },
     "execution_count": 7,
     "metadata": {},
     "output_type": "execute_result"
    }
   ],
   "source": [
    "forest"
   ]
  },
  {
   "cell_type": "code",
   "execution_count": 8,
   "id": "7fb3fddd",
   "metadata": {},
   "outputs": [
    {
     "data": {
      "text/plain": [
       "Index(['Rank', 'Country', '% of GDP', 'Date of Information'], dtype='object')"
      ]
     },
     "execution_count": 8,
     "metadata": {},
     "output_type": "execute_result"
    }
   ],
   "source": [
    "forest.columns"
   ]
  },
  {
   "cell_type": "code",
   "execution_count": 9,
   "id": "0959dca9",
   "metadata": {},
   "outputs": [
    {
     "data": {
      "text/plain": [
       "['Rank', 'Country', '% of GDP', 'Date of Information']"
      ]
     },
     "execution_count": 9,
     "metadata": {},
     "output_type": "execute_result"
    }
   ],
   "source": [
    "forest.columns.to_list()"
   ]
  },
  {
   "cell_type": "code",
   "execution_count": 10,
   "id": "f49b8d14",
   "metadata": {},
   "outputs": [
    {
     "data": {
      "text/plain": [
       "2018 est.    195\n",
       "2017 est.      7\n",
       "2015 est.      1\n",
       "2016 est.      1\n",
       "Name: Date of Information, dtype: int64"
      ]
     },
     "execution_count": 10,
     "metadata": {},
     "output_type": "execute_result"
    }
   ],
   "source": [
    "forest['Date of Information'].value_counts()"
   ]
  },
  {
   "cell_type": "code",
   "execution_count": 11,
   "id": "e46fc8f6",
   "metadata": {},
   "outputs": [],
   "source": [
    "forest.columns = forest.columns.str.replace('% of GDP', 'pct of GDP')"
   ]
  },
  {
   "cell_type": "code",
   "execution_count": 12,
   "id": "0d0544ec",
   "metadata": {},
   "outputs": [
    {
     "data": {
      "text/html": [
       "<div>\n",
       "<style scoped>\n",
       "    .dataframe tbody tr th:only-of-type {\n",
       "        vertical-align: middle;\n",
       "    }\n",
       "\n",
       "    .dataframe tbody tr th {\n",
       "        vertical-align: top;\n",
       "    }\n",
       "\n",
       "    .dataframe thead th {\n",
       "        text-align: right;\n",
       "    }\n",
       "</style>\n",
       "<table border=\"1\" class=\"dataframe\">\n",
       "  <thead>\n",
       "    <tr style=\"text-align: right;\">\n",
       "      <th></th>\n",
       "      <th>Rank</th>\n",
       "      <th>Country</th>\n",
       "      <th>pct of GDP</th>\n",
       "      <th>Date of Information</th>\n",
       "    </tr>\n",
       "  </thead>\n",
       "  <tbody>\n",
       "    <tr>\n",
       "      <th>0</th>\n",
       "      <td>1</td>\n",
       "      <td>Solomon Islands</td>\n",
       "      <td>20.27</td>\n",
       "      <td>2018 est.</td>\n",
       "    </tr>\n",
       "    <tr>\n",
       "      <th>1</th>\n",
       "      <td>2</td>\n",
       "      <td>Liberia</td>\n",
       "      <td>13.27</td>\n",
       "      <td>2018 est.</td>\n",
       "    </tr>\n",
       "    <tr>\n",
       "      <th>2</th>\n",
       "      <td>3</td>\n",
       "      <td>Burundi</td>\n",
       "      <td>10.31</td>\n",
       "      <td>2018 est.</td>\n",
       "    </tr>\n",
       "    <tr>\n",
       "      <th>3</th>\n",
       "      <td>4</td>\n",
       "      <td>Guinea-Bissau</td>\n",
       "      <td>9.24</td>\n",
       "      <td>2018 est.</td>\n",
       "    </tr>\n",
       "    <tr>\n",
       "      <th>4</th>\n",
       "      <td>5</td>\n",
       "      <td>Central African Republic</td>\n",
       "      <td>8.99</td>\n",
       "      <td>2018 est.</td>\n",
       "    </tr>\n",
       "    <tr>\n",
       "      <th>...</th>\n",
       "      <td>...</td>\n",
       "      <td>...</td>\n",
       "      <td>...</td>\n",
       "      <td>...</td>\n",
       "    </tr>\n",
       "    <tr>\n",
       "      <th>199</th>\n",
       "      <td>200</td>\n",
       "      <td>Tuvalu</td>\n",
       "      <td>0.00</td>\n",
       "      <td>2018 est.</td>\n",
       "    </tr>\n",
       "    <tr>\n",
       "      <th>200</th>\n",
       "      <td>201</td>\n",
       "      <td>United Arab Emirates</td>\n",
       "      <td>0.00</td>\n",
       "      <td>2018 est.</td>\n",
       "    </tr>\n",
       "    <tr>\n",
       "      <th>201</th>\n",
       "      <td>202</td>\n",
       "      <td>Uzbekistan</td>\n",
       "      <td>0.00</td>\n",
       "      <td>2018 est.</td>\n",
       "    </tr>\n",
       "    <tr>\n",
       "      <th>202</th>\n",
       "      <td>203</td>\n",
       "      <td>Virgin Islands</td>\n",
       "      <td>0.00</td>\n",
       "      <td>2017 est.</td>\n",
       "    </tr>\n",
       "    <tr>\n",
       "      <th>203</th>\n",
       "      <td>204</td>\n",
       "      <td>West Bank</td>\n",
       "      <td>0.00</td>\n",
       "      <td>2018 est.</td>\n",
       "    </tr>\n",
       "  </tbody>\n",
       "</table>\n",
       "<p>204 rows × 4 columns</p>\n",
       "</div>"
      ],
      "text/plain": [
       "     Rank                   Country  pct of GDP Date of Information\n",
       "0       1           Solomon Islands       20.27           2018 est.\n",
       "1       2                   Liberia       13.27           2018 est.\n",
       "2       3                   Burundi       10.31           2018 est.\n",
       "3       4             Guinea-Bissau        9.24           2018 est.\n",
       "4       5  Central African Republic        8.99           2018 est.\n",
       "..    ...                       ...         ...                 ...\n",
       "199   200                    Tuvalu        0.00           2018 est.\n",
       "200   201      United Arab Emirates        0.00           2018 est.\n",
       "201   202                Uzbekistan        0.00           2018 est.\n",
       "202   203            Virgin Islands        0.00           2017 est.\n",
       "203   204                 West Bank        0.00           2018 est.\n",
       "\n",
       "[204 rows x 4 columns]"
      ]
     },
     "execution_count": 12,
     "metadata": {},
     "output_type": "execute_result"
    }
   ],
   "source": [
    "forest"
   ]
  },
  {
   "cell_type": "code",
   "execution_count": 13,
   "id": "9fb51cfd",
   "metadata": {},
   "outputs": [],
   "source": [
    "borrar_columna = ['Rank']\n",
    "forest.drop(columns=borrar_columna, inplace=True)"
   ]
  },
  {
   "cell_type": "code",
   "execution_count": 14,
   "id": "8e2aa901",
   "metadata": {},
   "outputs": [
    {
     "data": {
      "text/html": [
       "<div>\n",
       "<style scoped>\n",
       "    .dataframe tbody tr th:only-of-type {\n",
       "        vertical-align: middle;\n",
       "    }\n",
       "\n",
       "    .dataframe tbody tr th {\n",
       "        vertical-align: top;\n",
       "    }\n",
       "\n",
       "    .dataframe thead th {\n",
       "        text-align: right;\n",
       "    }\n",
       "</style>\n",
       "<table border=\"1\" class=\"dataframe\">\n",
       "  <thead>\n",
       "    <tr style=\"text-align: right;\">\n",
       "      <th></th>\n",
       "      <th>Country</th>\n",
       "      <th>pct of GDP</th>\n",
       "      <th>Date of Information</th>\n",
       "    </tr>\n",
       "  </thead>\n",
       "  <tbody>\n",
       "    <tr>\n",
       "      <th>0</th>\n",
       "      <td>Solomon Islands</td>\n",
       "      <td>20.27</td>\n",
       "      <td>2018 est.</td>\n",
       "    </tr>\n",
       "    <tr>\n",
       "      <th>1</th>\n",
       "      <td>Liberia</td>\n",
       "      <td>13.27</td>\n",
       "      <td>2018 est.</td>\n",
       "    </tr>\n",
       "    <tr>\n",
       "      <th>2</th>\n",
       "      <td>Burundi</td>\n",
       "      <td>10.31</td>\n",
       "      <td>2018 est.</td>\n",
       "    </tr>\n",
       "    <tr>\n",
       "      <th>3</th>\n",
       "      <td>Guinea-Bissau</td>\n",
       "      <td>9.24</td>\n",
       "      <td>2018 est.</td>\n",
       "    </tr>\n",
       "    <tr>\n",
       "      <th>4</th>\n",
       "      <td>Central African Republic</td>\n",
       "      <td>8.99</td>\n",
       "      <td>2018 est.</td>\n",
       "    </tr>\n",
       "    <tr>\n",
       "      <th>...</th>\n",
       "      <td>...</td>\n",
       "      <td>...</td>\n",
       "      <td>...</td>\n",
       "    </tr>\n",
       "    <tr>\n",
       "      <th>199</th>\n",
       "      <td>Tuvalu</td>\n",
       "      <td>0.00</td>\n",
       "      <td>2018 est.</td>\n",
       "    </tr>\n",
       "    <tr>\n",
       "      <th>200</th>\n",
       "      <td>United Arab Emirates</td>\n",
       "      <td>0.00</td>\n",
       "      <td>2018 est.</td>\n",
       "    </tr>\n",
       "    <tr>\n",
       "      <th>201</th>\n",
       "      <td>Uzbekistan</td>\n",
       "      <td>0.00</td>\n",
       "      <td>2018 est.</td>\n",
       "    </tr>\n",
       "    <tr>\n",
       "      <th>202</th>\n",
       "      <td>Virgin Islands</td>\n",
       "      <td>0.00</td>\n",
       "      <td>2017 est.</td>\n",
       "    </tr>\n",
       "    <tr>\n",
       "      <th>203</th>\n",
       "      <td>West Bank</td>\n",
       "      <td>0.00</td>\n",
       "      <td>2018 est.</td>\n",
       "    </tr>\n",
       "  </tbody>\n",
       "</table>\n",
       "<p>204 rows × 3 columns</p>\n",
       "</div>"
      ],
      "text/plain": [
       "                      Country  pct of GDP Date of Information\n",
       "0             Solomon Islands       20.27           2018 est.\n",
       "1                     Liberia       13.27           2018 est.\n",
       "2                     Burundi       10.31           2018 est.\n",
       "3               Guinea-Bissau        9.24           2018 est.\n",
       "4    Central African Republic        8.99           2018 est.\n",
       "..                        ...         ...                 ...\n",
       "199                    Tuvalu        0.00           2018 est.\n",
       "200      United Arab Emirates        0.00           2018 est.\n",
       "201                Uzbekistan        0.00           2018 est.\n",
       "202            Virgin Islands        0.00           2017 est.\n",
       "203                 West Bank        0.00           2018 est.\n",
       "\n",
       "[204 rows x 3 columns]"
      ]
     },
     "execution_count": 14,
     "metadata": {},
     "output_type": "execute_result"
    }
   ],
   "source": [
    "forest"
   ]
  },
  {
   "cell_type": "code",
   "execution_count": 15,
   "id": "6dade232",
   "metadata": {},
   "outputs": [
    {
     "data": {
      "text/html": [
       "<div>\n",
       "<style scoped>\n",
       "    .dataframe tbody tr th:only-of-type {\n",
       "        vertical-align: middle;\n",
       "    }\n",
       "\n",
       "    .dataframe tbody tr th {\n",
       "        vertical-align: top;\n",
       "    }\n",
       "\n",
       "    .dataframe thead th {\n",
       "        text-align: right;\n",
       "    }\n",
       "</style>\n",
       "<table border=\"1\" class=\"dataframe\">\n",
       "  <thead>\n",
       "    <tr style=\"text-align: right;\">\n",
       "      <th></th>\n",
       "      <th>Country</th>\n",
       "      <th>pct of GDP</th>\n",
       "      <th>forest_date</th>\n",
       "    </tr>\n",
       "  </thead>\n",
       "  <tbody>\n",
       "    <tr>\n",
       "      <th>0</th>\n",
       "      <td>Solomon Islands</td>\n",
       "      <td>20.27</td>\n",
       "      <td>2018 est.</td>\n",
       "    </tr>\n",
       "    <tr>\n",
       "      <th>1</th>\n",
       "      <td>Liberia</td>\n",
       "      <td>13.27</td>\n",
       "      <td>2018 est.</td>\n",
       "    </tr>\n",
       "    <tr>\n",
       "      <th>2</th>\n",
       "      <td>Burundi</td>\n",
       "      <td>10.31</td>\n",
       "      <td>2018 est.</td>\n",
       "    </tr>\n",
       "    <tr>\n",
       "      <th>3</th>\n",
       "      <td>Guinea-Bissau</td>\n",
       "      <td>9.24</td>\n",
       "      <td>2018 est.</td>\n",
       "    </tr>\n",
       "    <tr>\n",
       "      <th>4</th>\n",
       "      <td>Central African Republic</td>\n",
       "      <td>8.99</td>\n",
       "      <td>2018 est.</td>\n",
       "    </tr>\n",
       "    <tr>\n",
       "      <th>...</th>\n",
       "      <td>...</td>\n",
       "      <td>...</td>\n",
       "      <td>...</td>\n",
       "    </tr>\n",
       "    <tr>\n",
       "      <th>199</th>\n",
       "      <td>Tuvalu</td>\n",
       "      <td>0.00</td>\n",
       "      <td>2018 est.</td>\n",
       "    </tr>\n",
       "    <tr>\n",
       "      <th>200</th>\n",
       "      <td>United Arab Emirates</td>\n",
       "      <td>0.00</td>\n",
       "      <td>2018 est.</td>\n",
       "    </tr>\n",
       "    <tr>\n",
       "      <th>201</th>\n",
       "      <td>Uzbekistan</td>\n",
       "      <td>0.00</td>\n",
       "      <td>2018 est.</td>\n",
       "    </tr>\n",
       "    <tr>\n",
       "      <th>202</th>\n",
       "      <td>Virgin Islands</td>\n",
       "      <td>0.00</td>\n",
       "      <td>2017 est.</td>\n",
       "    </tr>\n",
       "    <tr>\n",
       "      <th>203</th>\n",
       "      <td>West Bank</td>\n",
       "      <td>0.00</td>\n",
       "      <td>2018 est.</td>\n",
       "    </tr>\n",
       "  </tbody>\n",
       "</table>\n",
       "<p>204 rows × 3 columns</p>\n",
       "</div>"
      ],
      "text/plain": [
       "                      Country  pct of GDP forest_date\n",
       "0             Solomon Islands       20.27   2018 est.\n",
       "1                     Liberia       13.27   2018 est.\n",
       "2                     Burundi       10.31   2018 est.\n",
       "3               Guinea-Bissau        9.24   2018 est.\n",
       "4    Central African Republic        8.99   2018 est.\n",
       "..                        ...         ...         ...\n",
       "199                    Tuvalu        0.00   2018 est.\n",
       "200      United Arab Emirates        0.00   2018 est.\n",
       "201                Uzbekistan        0.00   2018 est.\n",
       "202            Virgin Islands        0.00   2017 est.\n",
       "203                 West Bank        0.00   2018 est.\n",
       "\n",
       "[204 rows x 3 columns]"
      ]
     },
     "execution_count": 15,
     "metadata": {},
     "output_type": "execute_result"
    }
   ],
   "source": [
    "forest.rename(columns={'Date of Information' : 'forest_date'})"
   ]
  },
  {
   "cell_type": "code",
   "execution_count": 16,
   "id": "595feaba",
   "metadata": {},
   "outputs": [
    {
     "data": {
      "text/plain": [
       "array([False,  True,  True])"
      ]
     },
     "execution_count": 16,
     "metadata": {},
     "output_type": "execute_result"
    }
   ],
   "source": [
    "forest.columns.str.contains(pat=r'\\s', regex=True)"
   ]
  },
  {
   "cell_type": "code",
   "execution_count": 17,
   "id": "52b8861f",
   "metadata": {},
   "outputs": [],
   "source": [
    "forest.columns = forest.columns.str.replace(pat=r'\\s',repl='', regex = True)"
   ]
  },
  {
   "cell_type": "code",
   "execution_count": 18,
   "id": "39e5b1ce",
   "metadata": {},
   "outputs": [
    {
     "data": {
      "text/html": [
       "<div>\n",
       "<style scoped>\n",
       "    .dataframe tbody tr th:only-of-type {\n",
       "        vertical-align: middle;\n",
       "    }\n",
       "\n",
       "    .dataframe tbody tr th {\n",
       "        vertical-align: top;\n",
       "    }\n",
       "\n",
       "    .dataframe thead th {\n",
       "        text-align: right;\n",
       "    }\n",
       "</style>\n",
       "<table border=\"1\" class=\"dataframe\">\n",
       "  <thead>\n",
       "    <tr style=\"text-align: right;\">\n",
       "      <th></th>\n",
       "      <th>Country</th>\n",
       "      <th>pctofGDP</th>\n",
       "      <th>DateofInformation</th>\n",
       "    </tr>\n",
       "  </thead>\n",
       "  <tbody>\n",
       "    <tr>\n",
       "      <th>0</th>\n",
       "      <td>Solomon Islands</td>\n",
       "      <td>20.27</td>\n",
       "      <td>2018 est.</td>\n",
       "    </tr>\n",
       "    <tr>\n",
       "      <th>1</th>\n",
       "      <td>Liberia</td>\n",
       "      <td>13.27</td>\n",
       "      <td>2018 est.</td>\n",
       "    </tr>\n",
       "    <tr>\n",
       "      <th>2</th>\n",
       "      <td>Burundi</td>\n",
       "      <td>10.31</td>\n",
       "      <td>2018 est.</td>\n",
       "    </tr>\n",
       "    <tr>\n",
       "      <th>3</th>\n",
       "      <td>Guinea-Bissau</td>\n",
       "      <td>9.24</td>\n",
       "      <td>2018 est.</td>\n",
       "    </tr>\n",
       "    <tr>\n",
       "      <th>4</th>\n",
       "      <td>Central African Republic</td>\n",
       "      <td>8.99</td>\n",
       "      <td>2018 est.</td>\n",
       "    </tr>\n",
       "    <tr>\n",
       "      <th>...</th>\n",
       "      <td>...</td>\n",
       "      <td>...</td>\n",
       "      <td>...</td>\n",
       "    </tr>\n",
       "    <tr>\n",
       "      <th>199</th>\n",
       "      <td>Tuvalu</td>\n",
       "      <td>0.00</td>\n",
       "      <td>2018 est.</td>\n",
       "    </tr>\n",
       "    <tr>\n",
       "      <th>200</th>\n",
       "      <td>United Arab Emirates</td>\n",
       "      <td>0.00</td>\n",
       "      <td>2018 est.</td>\n",
       "    </tr>\n",
       "    <tr>\n",
       "      <th>201</th>\n",
       "      <td>Uzbekistan</td>\n",
       "      <td>0.00</td>\n",
       "      <td>2018 est.</td>\n",
       "    </tr>\n",
       "    <tr>\n",
       "      <th>202</th>\n",
       "      <td>Virgin Islands</td>\n",
       "      <td>0.00</td>\n",
       "      <td>2017 est.</td>\n",
       "    </tr>\n",
       "    <tr>\n",
       "      <th>203</th>\n",
       "      <td>West Bank</td>\n",
       "      <td>0.00</td>\n",
       "      <td>2018 est.</td>\n",
       "    </tr>\n",
       "  </tbody>\n",
       "</table>\n",
       "<p>204 rows × 3 columns</p>\n",
       "</div>"
      ],
      "text/plain": [
       "                      Country  pctofGDP DateofInformation\n",
       "0             Solomon Islands     20.27         2018 est.\n",
       "1                     Liberia     13.27         2018 est.\n",
       "2                     Burundi     10.31         2018 est.\n",
       "3               Guinea-Bissau      9.24         2018 est.\n",
       "4    Central African Republic      8.99         2018 est.\n",
       "..                        ...       ...               ...\n",
       "199                    Tuvalu      0.00         2018 est.\n",
       "200      United Arab Emirates      0.00         2018 est.\n",
       "201                Uzbekistan      0.00         2018 est.\n",
       "202            Virgin Islands      0.00         2017 est.\n",
       "203                 West Bank      0.00         2018 est.\n",
       "\n",
       "[204 rows x 3 columns]"
      ]
     },
     "execution_count": 18,
     "metadata": {},
     "output_type": "execute_result"
    }
   ],
   "source": [
    "forest"
   ]
  },
  {
   "cell_type": "code",
   "execution_count": 19,
   "id": "482c1f9c",
   "metadata": {},
   "outputs": [
    {
     "data": {
      "text/plain": [
       "0               Solomon Islands\n",
       "1                       Liberia\n",
       "2                       Burundi\n",
       "3                 Guinea-Bissau\n",
       "4      Central African Republic\n",
       "                 ...           \n",
       "199                      Tuvalu\n",
       "200        United Arab Emirates\n",
       "201                  Uzbekistan\n",
       "202              Virgin Islands\n",
       "203                   West Bank\n",
       "Name: Country, Length: 204, dtype: object"
      ]
     },
     "execution_count": 19,
     "metadata": {},
     "output_type": "execute_result"
    }
   ],
   "source": [
    "forest.Country.str.strip()"
   ]
  },
  {
   "cell_type": "code",
   "execution_count": 20,
   "id": "49538ee4",
   "metadata": {},
   "outputs": [
    {
     "data": {
      "text/plain": [
       "0      2018 est.\n",
       "1      2018 est.\n",
       "2      2018 est.\n",
       "3      2018 est.\n",
       "4      2018 est.\n",
       "         ...    \n",
       "199    2018 est.\n",
       "200    2018 est.\n",
       "201    2018 est.\n",
       "202    2017 est.\n",
       "203    2018 est.\n",
       "Name: DateofInformation, Length: 204, dtype: object"
      ]
     },
     "execution_count": 20,
     "metadata": {},
     "output_type": "execute_result"
    }
   ],
   "source": [
    "forest.DateofInformation.str.strip()"
   ]
  },
  {
   "cell_type": "code",
   "execution_count": 21,
   "id": "bb42c061",
   "metadata": {},
   "outputs": [
    {
     "data": {
      "text/html": [
       "<div>\n",
       "<style scoped>\n",
       "    .dataframe tbody tr th:only-of-type {\n",
       "        vertical-align: middle;\n",
       "    }\n",
       "\n",
       "    .dataframe tbody tr th {\n",
       "        vertical-align: top;\n",
       "    }\n",
       "\n",
       "    .dataframe thead th {\n",
       "        text-align: right;\n",
       "    }\n",
       "</style>\n",
       "<table border=\"1\" class=\"dataframe\">\n",
       "  <thead>\n",
       "    <tr style=\"text-align: right;\">\n",
       "      <th></th>\n",
       "      <th>0</th>\n",
       "    </tr>\n",
       "  </thead>\n",
       "  <tbody>\n",
       "    <tr>\n",
       "      <th>0</th>\n",
       "      <td>2018</td>\n",
       "    </tr>\n",
       "    <tr>\n",
       "      <th>1</th>\n",
       "      <td>2018</td>\n",
       "    </tr>\n",
       "    <tr>\n",
       "      <th>2</th>\n",
       "      <td>2018</td>\n",
       "    </tr>\n",
       "    <tr>\n",
       "      <th>3</th>\n",
       "      <td>2018</td>\n",
       "    </tr>\n",
       "    <tr>\n",
       "      <th>4</th>\n",
       "      <td>2018</td>\n",
       "    </tr>\n",
       "    <tr>\n",
       "      <th>...</th>\n",
       "      <td>...</td>\n",
       "    </tr>\n",
       "    <tr>\n",
       "      <th>199</th>\n",
       "      <td>2018</td>\n",
       "    </tr>\n",
       "    <tr>\n",
       "      <th>200</th>\n",
       "      <td>2018</td>\n",
       "    </tr>\n",
       "    <tr>\n",
       "      <th>201</th>\n",
       "      <td>2018</td>\n",
       "    </tr>\n",
       "    <tr>\n",
       "      <th>202</th>\n",
       "      <td>2017</td>\n",
       "    </tr>\n",
       "    <tr>\n",
       "      <th>203</th>\n",
       "      <td>2018</td>\n",
       "    </tr>\n",
       "  </tbody>\n",
       "</table>\n",
       "<p>204 rows × 1 columns</p>\n",
       "</div>"
      ],
      "text/plain": [
       "        0\n",
       "0    2018\n",
       "1    2018\n",
       "2    2018\n",
       "3    2018\n",
       "4    2018\n",
       "..    ...\n",
       "199  2018\n",
       "200  2018\n",
       "201  2018\n",
       "202  2017\n",
       "203  2018\n",
       "\n",
       "[204 rows x 1 columns]"
      ]
     },
     "execution_count": 21,
     "metadata": {},
     "output_type": "execute_result"
    }
   ],
   "source": [
    "forest.DateofInformation.str.extract(pat=r'(\\d+)',expand=True)"
   ]
  }
 ],
 "metadata": {
  "kernelspec": {
   "display_name": "Python 3 (ipykernel)",
   "language": "python",
   "name": "python3"
  },
  "language_info": {
   "codemirror_mode": {
    "name": "ipython",
    "version": 3
   },
   "file_extension": ".py",
   "mimetype": "text/x-python",
   "name": "python",
   "nbconvert_exporter": "python",
   "pygments_lexer": "ipython3",
   "version": "3.10.9"
  }
 },
 "nbformat": 4,
 "nbformat_minor": 5
}
